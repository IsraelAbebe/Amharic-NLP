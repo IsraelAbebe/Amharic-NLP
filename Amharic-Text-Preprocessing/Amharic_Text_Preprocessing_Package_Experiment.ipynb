{
  "nbformat": 4,
  "nbformat_minor": 0,
  "metadata": {
    "colab": {
      "name": "Amharic Text Preprocessing Package Experiment",
      "provenance": [],
      "collapsed_sections": [],
      "authorship_tag": "ABX9TyN7Ldn1hYw9I9FfJyL4Pe/I",
      "include_colab_link": true
    },
    "kernelspec": {
      "name": "python3",
      "display_name": "Python 3"
    }
  },
  "cells": [
    {
      "cell_type": "markdown",
      "metadata": {
        "id": "view-in-github",
        "colab_type": "text"
      },
      "source": [
        "<a href=\"https://colab.research.google.com/github/IsraelAbebe/Amharic-NLP/blob/master/Amharic-Text-Preprocessing/Amharic_Text_Preprocessing_Package_Experiment.ipynb\" target=\"_parent\"><img src=\"https://colab.research.google.com/assets/colab-badge.svg\" alt=\"Open In Colab\"/></a>"
      ]
    },
    {
      "cell_type": "markdown",
      "metadata": {
        "id": "wRhEymKBqeM9",
        "colab_type": "text"
      },
      "source": [
        "# Amharic Text Preprocessing Package Experiment\n",
        "\n",
        "[Blog](https://towardsdatascience.com/nlp-text-preprocessing-a-practical-guide-and-template-d80874676e79)"
      ]
    },
    {
      "cell_type": "code",
      "metadata": {
        "id": "5d5evOcZqOPC",
        "colab_type": "code",
        "colab": {}
      },
      "source": [
        "import re\n",
        "from collections import Counter\n",
        "import random\n",
        "import numpy as np"
      ],
      "execution_count": 0,
      "outputs": []
    },
    {
      "cell_type": "code",
      "metadata": {
        "id": "yx6b6sncqu-m",
        "colab_type": "code",
        "colab": {
          "base_uri": "https://localhost:8080/",
          "height": 122
        },
        "outputId": "d44fdff3-fe95-43a4-e1c7-f723c4747bd8"
      },
      "source": [
        "from google.colab import drive\n",
        "drive.mount('/content/gdrive/')"
      ],
      "execution_count": 2,
      "outputs": [
        {
          "output_type": "stream",
          "text": [
            "Go to this URL in a browser: https://accounts.google.com/o/oauth2/auth?client_id=947318989803-6bn6qk8qdgf4n4g3pfee6491hc0brc4i.apps.googleusercontent.com&redirect_uri=urn%3aietf%3awg%3aoauth%3a2.0%3aoob&response_type=code&scope=email%20https%3a%2f%2fwww.googleapis.com%2fauth%2fdocs.test%20https%3a%2f%2fwww.googleapis.com%2fauth%2fdrive%20https%3a%2f%2fwww.googleapis.com%2fauth%2fdrive.photos.readonly%20https%3a%2f%2fwww.googleapis.com%2fauth%2fpeopleapi.readonly\n",
            "\n",
            "Enter your authorization code:\n",
            "··········\n",
            "Mounted at /content/gdrive/\n"
          ],
          "name": "stdout"
        }
      ]
    },
    {
      "cell_type": "code",
      "metadata": {
        "id": "tB6x7XRIqxaL",
        "colab_type": "code",
        "colab": {
          "base_uri": "https://localhost:8080/",
          "height": 136
        },
        "outputId": "a710abdd-4453-49c2-ecee-f20fdd230b1b"
      },
      "source": [
        "text_data_path = 'gdrive/My Drive/dataset/CACO/CACO_TEXT.txt'\n",
        "\n",
        "with open(text_data_path) as f:\n",
        "    text = f.read()\n",
        "\n",
        "print(text[:300])"
      ],
      "execution_count": 3,
      "outputs": [
        {
          "output_type": "stream",
          "text": [
            "አሁን ወደ ዋናው የጉዞ ፕሮግራም እንመለስ ።\n",
            "ደብዳቤውን ካነበብክ በኋላ \" ጓደኛዬ እኮ እንዲህ አለኝ ! \" ብለህ በደስታ ለሌሎች ትናገር ይሆናል ።\n",
            "የትምህርት ቤቶች እገዛና ድጋፍ ከፍተኛ መሆን እንዳለበትም አስተያየት ሰጥተዋል ።\n",
            "አብደሻል ?\n",
            "ደንብ ካልተከበረ የአዲስ አበባ ከተማን ዕድገት ማሳለጥም አይቻልም ።\n",
            "የመማጸኛ ከተሞች ( 9 34 )\n",
            "ከዚህ በተጨማሪም ፣ የእርሻ ስራ ከጀመሩ ወዲህ በማኅበር ተደራጅተው 100ሺ ብር ብድር ወስደው በገቢ ማስገኛ ስራዎች ላይ ተሰማር\n"
          ],
          "name": "stdout"
        }
      ]
    },
    {
      "cell_type": "markdown",
      "metadata": {
        "id": "z7CtHyRkq-Rv",
        "colab_type": "text"
      },
      "source": [
        "# Tokenization"
      ]
    },
    {
      "cell_type": "code",
      "metadata": {
        "id": "5anBfFn7q6x1",
        "colab_type": "code",
        "colab": {}
      },
      "source": [
        "simmilar_characters = {\"ሐ\":\"ሀ\",\"ሑ\":\"ሁ\",\"ሒ\":\"ሂ\",\"ሓ\":\"ሃ\",\"ሔ\":\"ሄ\",\"ሕ\":\"ህ\",\"ሖ\":\"ሆ\",\\\n",
        "                       \"ኀ\":\"ሀ\",\"ኁ\":\"ሁ\",\"ኂ\":\"ሂ\",\"ኃ\":\"ሃ\",\"ኄ\":\"ሄ\",\"ኅ\":\"ህ\",\"ኆ\":\"ሆ\",\\\n",
        "                       \"ሠ\":\"ሰ\",\"ሡ\":\"ሱ\",\"ሢ\":\"ሲ\",\"ሣ\":\"ሳ\",\"ሤ\":\"ሴ\",\"ሥ\":\"ስ\",\"ሦ\":\"ሶ\",\"ሧ\":\"ሷ\",\\\n",
        "                       \"ዐ\":\"አ\",\"ዑ\":\"ኡ\",\"ዒ\":\"ኢ\",\"ዓ\":\"ኣ\",\"ዔ\":\"ኤ\",\"ዕ\":\"እ\",\"ዖ\":\"ኦ\",\\\n",
        "                       \"ጸ\":\"ፀ\",\"ጹ\":\"ፁ\",\"ጺ\":\"ፂ\",\"ጻ\":\"ፃ\",\"ጼ\":\"ፄ\",\"ጽ\":\"ፅ\",\"ጾ\":\"ፆ\"}\n",
        "\n",
        "\t\n",
        "\n",
        "\n",
        "def preprocess(text,replace_characters=True,replace_punctuation=True,remove_last=0):\n",
        "    # Replace punctuation with tokens so we can use them in our model\n",
        "    text = text.lower()\n",
        "    if replace_punctuation:\n",
        "        text = text.replace('.', ' <PERIOD> ')\n",
        "        text = text.replace(',', ' <COMMA>')\n",
        "        text = text.replace('\"', ' <QUOTATION_MARK> ')\n",
        "        text = text.replace(';', ' <SEMICOLON> ')\n",
        "        text = text.replace('!', ' <EXCLAMATION_MARK> ')\n",
        "        text = text.replace('?', ' <QUESTION_MARK> ')\n",
        "        text = text.replace('(', ' <LEFT_PAREN> ')\n",
        "        text = text.replace(')', ' <RIGHT_PAREN> ')\n",
        "        text = text.replace('--', '<HYPHENS>')\n",
        "        text = text.replace('?', ' <QUESTION_MARK> ')\n",
        "        text = text.replace('።', ' <PERIOD> ')\n",
        "        text = text.replace('፣', ' <PERIOD> ')\n",
        "        # text = text.replace('\\n', ' <NEW_LINE> ')\n",
        "        text = text.replace(':', '')\n",
        "        text = text.replace('፤',' <SEMICOLON> ')\n",
        "        text = text.replace('…',' <HYPHENS> ')\n",
        "        text = text.replace('[',' <SQUARE_LEFT_PAREN> ')\n",
        "        text = text.replace(']',' <SQUARE_RIGHT_PAREN> ')\n",
        "\n",
        "    if replace_characters:\n",
        "        for letter, alternative in simmilar_characters.items():\n",
        "            text = text.replace(letter, alternative)\n",
        "\n",
        "\n",
        "\n",
        "\n",
        "    \n",
        "    words = text.split()\n",
        "\n",
        "    \n",
        "    word_counts = Counter(words)\n",
        "    trimmed_words = [word for word in words if word_counts[word] > remove_last]\n",
        "\n",
        "    return trimmed_words"
      ],
      "execution_count": 0,
      "outputs": []
    },
    {
      "cell_type": "code",
      "metadata": {
        "id": "LmbUWTdq1VsT",
        "colab_type": "code",
        "colab": {
          "base_uri": "https://localhost:8080/",
          "height": 54
        },
        "outputId": "66caed9f-65f7-468a-c859-9c64fd7180f8"
      },
      "source": [
        "words = preprocess(text,remove_last=5)\n",
        "print(words[:500])"
      ],
      "execution_count": 17,
      "outputs": [
        {
          "output_type": "stream",
          "text": [
            "['አሁን', 'ወደ', 'ዋናው', 'የጉዞ', 'ፕሮግራም', 'እንመለስ', '<PERIOD>', 'ደብዳቤውን', 'ካነበብክ', 'በኋላ', '<QUOTATION_MARK>', 'ጓደኛዬ', 'እኮ', 'እንዲህ', 'አለኝ', '<EXCLAMATION_MARK>', '<QUOTATION_MARK>', 'ብለህ', 'በደስታ', 'ለሌሎች', 'ትናገር', 'ይሆናል', '<PERIOD>', 'የትምህርት', 'ቤቶች', 'እገዛና', 'ድጋፍ', 'ከፍተኛ', 'መሆን', 'እንዳለበትም', 'አስተያየት', 'ሰጥተዋል', '<PERIOD>', 'አብደሻል', '<QUESTION_MARK>', 'ደንብ', 'ካልተከበረ', 'የአዲስ', 'አበባ', 'ከተማን', 'እድገት', 'አይቻልም', '<PERIOD>', 'የመማፀኛ', 'ከተሞች', '<LEFT_PAREN>', '9', '34', '<RIGHT_PAREN>', 'ከዚህ', 'በተጨማሪም', '<PERIOD>', 'የእርሻ', 'ስራ', 'ከጀመሩ', 'ወዲህ', 'በማህበር', 'ተደራጅተው', '100ሺ', 'ብር', 'ብድር', 'ወስደው', 'በገቢ', 'ማስገኛ', 'ስራዎች', 'ላይ', 'ተሰማርተዋል', '<PERIOD>', 'ባለ', 'ድርሻ', 'አካላትንና', 'የክልሉን', 'ማህበረሰብ', 'ፍላጎት', 'መሰረት', 'ያደረጉ', 'የምርምር', 'ፕሮፖዛሎች', 'የዩኒቨርሲቲውን', 'ዌብ', 'ሳይት', 'በመጠቀም', 'በተደረገው', 'የፕሮፖዛል', 'ጥሪ', 'መሰረት', 'በአጠቃላይ', '85', 'የምርምር', 'ፕሮፖዛሎች', 'ቀርበዋል', '<PERIOD>', 'ከተስፋ', 'አስቆራጩ', 'የኤምባሲው', 'ምላሽ', 'በኋላም', 'የሚመጣውን', 'በፀጋ', 'ለመቀበል', 'ወስነው', 'ጥቅምት', 'ሃያ', 'አራትን', 'መጠባበቅ', 'ጀመሩ', '<PERIOD>', 'ሌላው', 'የአከባቢው', 'ነዋሪ', 'አርሶ', 'አደር', 'ገዛኢ', 'ተስፋይ', 'በበኩላቸው', 'እንደገለፁት', 'ተራራውን', 'አቆራርጦ', 'ወደ', 'ሰፈሩበት', 'መኖሪያ', 'ቤታቸው', 'ውሀ', 'የሚል', 'እምነት', 'ፈፅሞ', 'አልነበራቸውም', '<PERIOD>', 'ስራ', '<PERIOD>', 'ትምህርት', '<PERIOD>', 'እድገት', 'እያለች', 'ያሳለፈችው', 'ጊዜዋ', '<PERIOD>', 'ንግግርህ', 'የአድማጮችን', 'ግንዛቤ', 'የሚያሰፋ', 'እንዲሆን', 'ርእሰ', 'ጉዳዩ', 'ጥሩ', 'መሆኑ', 'ብቻ', 'በቂ', 'አይደለም', '<PERIOD>', 'ስለሚሉት', 'ጉዳዮች', 'ማወቅ', 'አለባቸው', '<PERIOD>', 'ሰውዬ', 'ይገርምሻል', '<PERIOD>', 'ስለት', 'ከራስጌ', 'ማድረግ', 'መከላከያነት', 'እንደሚረዳ', 'ህይወት', 'አክስቷ', 'ስታወራ', 'ትሰማ', 'ነበር', '<PERIOD>', '<QUOTATION_MARK>', 'የሰራሁት', 'ፊልም', 'አንድ', 'ተጨማሪ', 'ተመልካች', 'ስራዬን', 'ሰርቻለሁ', 'ማለት', 'ነው', '<EXCLAMATION_MARK>', '<QUOTATION_MARK>', 'አለን', '<LEFT_PAREN>', 'መዝሙር', '104', '5', '<RIGHT_PAREN>', 'ይህንን', 'ጨምሮ', 'በመፅሀፍ', 'ቅዱስ', 'ውስጥ', 'የሚገኙ', 'በርካታ', 'ጥቅሶች', 'አምላክ', 'ምድርን', '<PERIOD>', 'እንደማይፈቅድ', 'ያረጋግጡልናል', '<EXCLAMATION_MARK>', 'መክብብ', '1', '4', '<SEMICOLON>', 'ኢሳይያስ', '45', '18', 'ወይ', 'ጉድ', '<EXCLAMATION_MARK>', 'አልኩ', '<PERIOD>', 'በሽታውን', 'ከመከላከል', 'በተጨማሪ', 'ከምግብነት', 'ባለፈ', 'ለመድሃኒትነት', '<PERIOD>', 'ለተለያዩ', 'ቅባቶች', '<PERIOD>', 'ለእንስሳት', 'መኖ', 'የሚውልበትን', 'ሁኔታ', 'በምርምር', 'እያሳደግን', 'ነው', '<PERIOD>', '<QUOTATION_MARK>', 'እኔ', 'የሚያሳዝነኝ', 'እድሌ', 'ነው', '<PERIOD>', 'ህልቃና', 'ሁኔታውን', 'ለመለወጥ', 'ምን', 'ማድረግ', 'ይችላል', '<QUESTION_MARK>', 'ላለፉት', 'ዘጠኝ', 'ቀናት', 'በቻይና', 'ቤጂንግ', 'ሲካሄድ', 'በሰነበተው', 'አስራ', 'አምስተኛው', 'የኣለም', 'አትሌቲክስ', 'ሻምፒዮና', 'ኬንያ', 'ብትቆይም', 'የምንጊዜም', 'ተቀናቃኟ', 'ኢትዮጵያ', 'ሻምፒዮናው', 'ሊጠናቀቅ', 'አንድ', 'ቀን', 'እስኪቀረው', 'ድረስ', 'አንድ', 'የወርቅ', '<SEMICOLON>', 'ሁለት', 'የብርና', 'አንድ', 'የነሀስ', 'ሜዳሊያ', 'ብቻ', 'በማግኘት', 'ሻምፒዮናውን', 'በአስደንጋጭ', 'ውጤት', 'ለማጠናቀቅ', 'ጫፍ', 'ደርሳ', 'ነበር', '<PERIOD>', 'ማህበሩ', 'በአገር', 'አቀፍና', 'በአለም', 'አቀፍ', 'ደረጃ', 'ለበርካታ', 'አመታት', 'በህፃናት', 'ህክምና', 'ላይ', 'ለሰሩት', 'ለዶክተር', 'ደምሴ', 'በኢትዮጵያ', 'በፌስቱላ', 'ህክምና', 'ቀዳጅ', 'ለሆኑት', 'ዶክተር', 'ካትሪን', 'እውቅና', 'ሰጥቷል', '<PERIOD>', 'ማስመዝገቢያ', 'ማብቂያ', 'አንስቶ', 'እስካሁን', 'ድረስ', 'ያለውን', 'ጊዜ', 'እየተጠቀምንበት', 'ያለነው', 'ቁሳቁስ', 'ለማዘጋጀትና', 'ለመሳሰሉት', 'ስራዎች', 'ነው', '<PERIOD>', '<QUOTATION_MARK>', 'ሲሉም', 'አክለዋል', '<PERIOD>', 'ጊዜ', 'ኖሮኝ', 'ያለችበት', 'ሄጄ', 'ደህንነቷ', 'አስጊ', 'መሆኑን', 'ሰምቻለሁ', '<PERIOD>', '<SEMICOLON>', 'ከመላው', 'አውሮፓ', '<PERIOD>', 'ከአሜሪካ', '<PERIOD>', 'ከደቡብ', 'አሜሪካ', 'የሚመጡ', 'ቱሪስቶች', '<PERIOD>', 'በኢትዮጵያ', 'ብሄረሰቦች', 'ጥናት', 'ኢንስቲትዩት', 'ለ10', 'ኣመት', 'ከ2', 'ወር', 'በሰራተኛ', 'አገልግሎት', 'እና', 'በኢንስቲትዩቱ', 'አስተዳዳሪነት', 'በላይ', 'በኢትዮጵያ', 'ብሄራዊ', 'ምርጫ', 'ቦርድ', 'የአስተዳደርና', 'ፋይናንስ', 'መምሪያ', 'ተ', '/', 'ሃላፊነት', 'ለ4', 'ወራት', 'እንዲሁም', 'በጥናት', 'ቡድን', 'አስተባባሪነት', 'ለ10', 'ወራት', 'አገልግያለሁ', '<PERIOD>', 'ይህን', 'ሲያስበው', 'ማታውኑ', 'ነው', 'ብርድ', 'የሚጀምረው', '<PERIOD>', 'አብርሃም', 'አምላክን', 'በእምነት', 'በመታዘዙ', 'ያህዌ', 'ዘሩንም', 'ቃል', 'ገባለት', 'እኔ', 'እንደምረዳው', 'አንዳንዱ', 'ችግር', 'አሁን', 'መቆም', 'ያለበት', 'ነው', '<PERIOD>', 'ያህዌ', 'ኣይኔን', '<LEFT_PAREN>', '<RIGHT_PAREN>', '<PERIOD>', '6/1', 'የሞት', 'ቅጣት', 'ተግባራዊ', 'የሚያደርጉ', 'አገሮችን', 'እንቃወማለን', '<PERIOD>', 'ከሰው', 'መንጋ', 'እንገንጠል', '<PERIOD>', 'በእፎይታ', 'ጥላ', '<HYPHENS>', 'ብለው', 'አብዝቶ', '<PERIOD>', 'የቡድኑን', 'መስራች', 'ዶ/ር', 'ጨምሮ', 'ሌሎች', 'በፀረ', 'አፓርታይድ', 'ትግል', 'ታስረው', 'ነበር', '<PERIOD>', 'ይሁን', 'እንጂ', 'የረጅም', 'ጊዜ', 'ታሪክ', 'እንዳለው', 'ይታወቃል', '<PERIOD>', 'አፍ', 'በሰፋ', 'ቁጥር', 'ህዝብ', 'ነው', '<PERIOD>', 'ኣለም', 'አቀፉ', 'ማህበረሰብ', 'ለአገሪቷ', 'ተቋማት', 'አቅም', 'ግንባታ', '<PERIOD>', 'ብሄራዊ', 'ወታደራዊ', 'ሃይል', 'ማጠናከርና', 'ኢኮኖሚዋን', 'ለማረጋጋት', 'ለሚደረገው', 'ጥረት', 'የሚያደርገውን', 'ድጋፍ', 'አጠናክሮ', 'መቀጠል', 'እንዳለበት', 'አመልክተዋል', '<PERIOD>', 'አንድ', 'የመፅሀፍ', 'ቅዱስ', 'መዝገበ', 'ቃላት', 'እንዲህ', 'ይላል፦', '<QUOTATION_MARK>', 'በበቀል', 'ተነሳስቶ', 'በሌላ', 'ሰው', 'እርሻ', 'ላይ', 'እንክርዳድ', 'መዝራት', '<PERIOD>', '<PERIOD>', '<PERIOD>', 'በሮም', 'ህግ', 'እንደ', 'ወንጀል']\n"
          ],
          "name": "stdout"
        }
      ]
    },
    {
      "cell_type": "code",
      "metadata": {
        "id": "wFIv7E9b1m50",
        "colab_type": "code",
        "colab": {
          "base_uri": "https://localhost:8080/",
          "height": 51
        },
        "outputId": "10e9970a-b36a-40c2-ee11-88ee5622a274"
      },
      "source": [
        "print(\"Total words in text: {}\".format(len(words)))\n",
        "print(\"Unique words: {}\".format(len(set(words))))"
      ],
      "execution_count": 18,
      "outputs": [
        {
          "output_type": "stream",
          "text": [
            "Total words in text: 20793558\n",
            "Unique words: 167588\n"
          ],
          "name": "stdout"
        }
      ]
    },
    {
      "cell_type": "code",
      "metadata": {
        "id": "aPyCq-QQ662n",
        "colab_type": "code",
        "colab": {}
      },
      "source": [
        ""
      ],
      "execution_count": 0,
      "outputs": []
    }
  ]
}